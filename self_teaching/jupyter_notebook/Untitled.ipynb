{
 "cells": [
  {
   "cell_type": "markdown",
   "id": "66f9f418-7a9d-42d5-8912-c22cb17d930a",
   "metadata": {},
   "source": [
    "# libasm - Apprentissage de l'assembleur :\n",
    "## Working with ASM on the notebook :"
   ]
  },
  {
   "cell_type": "code",
   "execution_count": 1,
   "id": "17eef525-b651-44dd-b5f5-e3d0ee98d12d",
   "metadata": {},
   "outputs": [
    {
     "data": {
      "text/html": [
       "Changes: <br /><table><tr><th>Type</th><th>Identifier</th><th>Value</th><tr><td>Register</td><td>EBX</td>\n",
       "            <td>16</td></tr><tr><td>Register</td><td>EDX</td>\n",
       "            <td>2</td></tr></table>"
      ]
     },
     "metadata": {},
     "output_type": "display_data"
    }
   ],
   "source": [
    "mov edx, 2\n",
    "mov ebx, 16"
   ]
  },
  {
   "cell_type": "markdown",
   "id": "6461d824",
   "metadata": {},
   "source": [
    "## asmtutor :"
   ]
  },
  {
   "cell_type": "code",
   "execution_count": 42,
   "id": "180dcbd1",
   "metadata": {},
   "outputs": [
    {
     "name": "stderr",
     "output_type": "stream",
     "text": [
      "mkdir: cannot create directory ‘Lesson_1’: File exists\n",
      "mkdir: cannot create directory ‘Lesson_2’: File exists\n",
      "mkdir: cannot create directory ‘Lesson_3’: File exists\n",
      "mkdir: cannot create directory ‘Lesson_4’: File exists\n",
      "mkdir: cannot create directory ‘Lesson_5’: File exists\n",
      "mkdir: cannot create directory ‘Lesson_6’: File exists\n",
      "mkdir: cannot create directory ‘Lesson_7’: File exists\n",
      "mkdir: cannot create directory ‘Lesson_8’: File exists\n",
      "mkdir: cannot create directory ‘Lesson_9’: File exists\n",
      "mkdir: cannot create directory ‘Lesson_10’: File exists\n",
      "mkdir: cannot create directory ‘Lesson_11’: File exists\n",
      "mkdir: cannot create directory ‘Lesson_12’: File exists\n",
      "mkdir: cannot create directory ‘Lesson_13’: File exists\n",
      "mkdir: cannot create directory ‘Lesson_14’: File exists\n",
      "mkdir: cannot create directory ‘Lesson_15’: File exists\n",
      "mkdir: cannot create directory ‘Lesson_16’: File exists\n",
      "mkdir: cannot create directory ‘Lesson_17’: File exists\n",
      "mkdir: cannot create directory ‘Lesson_18’: File exists\n",
      "mkdir: cannot create directory ‘Lesson_19’: File exists\n",
      "mkdir: cannot create directory ‘Lesson_20’: File exists\n",
      "mkdir: cannot create directory ‘Lesson_21’: File exists\n",
      "mkdir: cannot create directory ‘Lesson_22’: File exists\n",
      "mkdir: cannot create directory ‘Lesson_23’: File exists\n",
      "mkdir: cannot create directory ‘Lesson_24’: File exists\n",
      "mkdir: cannot create directory ‘Lesson_25’: File exists\n",
      "mkdir: cannot create directory ‘Lesson_26’: File exists\n",
      "mkdir: cannot create directory ‘Lesson_27’: File exists\n",
      "mkdir: cannot create directory ‘Lesson_28’: File exists\n",
      "mkdir: cannot create directory ‘Lesson_29’: File exists\n",
      "mkdir: cannot create directory ‘Lesson_30’: File exists\n",
      "mkdir: cannot create directory ‘Lesson_31’: File exists\n",
      "mkdir: cannot create directory ‘Lesson_32’: File exists\n",
      "mkdir: cannot create directory ‘Lesson_33’: File exists\n",
      "mkdir: cannot create directory ‘Lesson_34’: File exists\n",
      "mkdir: cannot create directory ‘Lesson_35’: File exists\n",
      "mkdir: cannot create directory ‘Lesson_36’: File exists\n"
     ]
    }
   ],
   "source": [
    "%%script bash --no-raise-error\n",
    "# Create every directory\n",
    "for i in {1..36}; do\n",
    "    mkdir Lesson_$i | true;\n",
    "done"
   ]
  },
  {
   "cell_type": "markdown",
   "id": "8d301874-ead2-49fd-ba8b-8b5e8ee81c63",
   "metadata": {},
   "source": [
    "### Lesson 1 : Hello world !\n",
    "\n",
    "- Syscalls are a builtin library in the kernel to provide functions like reading inputs from a keyboard and writing to the screen.\n",
    "- Execution is suspended when the programm calls a syscall, it'll contact drivers to do stuff and then return control back to your programm.\n",
    "- Drivers are called drivers because the kernel literally uses them to drive the hardware.\n",
    "- We can do this by loading EAX with the function number (operation code OPCODE) we want to execute and filling the remaining registers with the argumetns we want to pass the syscall. Software *INT*errupt is then requested with the `INT` instruction and the kernel takes over and calls the function from the library with our arguments.\n",
    "- For instance, when `EAX=1`, `sys_exit` will be called, and `sys_write` will if `EAX=4`.\n",
    "- [Linux Syscalls table](https://chromium.googlesource.com/chromiumos/docs/+/HEAD/constants/syscalls.md#x86-32_bit)\n",
    "\n",
    "#### Writing our program :\n",
    "- First we create a `msg` variable in our `.data` section and assign it the string we want to output it in.\n",
    "- In the `.text` section we tell the kernel where to begin execution with a global label `_start:` as the program's entry point.\n",
    "- We'll use the `sys_write` syscall to output our message (OPCODE 4). The function also takes 3 arguments which are sequentially loaded into `EDX`, `ECX` and `EBX` before requesing a software interrupt which will perform the task.\n",
    "\n",
    "The arguments passed are as follow :\n",
    "- `EDX` will be loaded with the length (in bytes) of the string.\n",
    "- `ECX` will be loaded with the address of our variable created in the `.data` section.\n",
    "- `EBX` will be loaded with the file we want to write to (in this case `STDOUT`).\n",
    "\n",
    "The datatype and meaning of the arguments passed can be found in the function's definition.\n",
    "\n",
    "We compile, link and run the programm using the commands below :\n",
    "\n",
    "```\n",
    "~$ nasm -f elf helloworld.asm\n",
    "~$ ld -m elf_i386 helloworld.o -o helloworld\n",
    "~$ ./helloworld\n",
    "Hello World!\n",
    "Segmentation fault\n",
    "```"
   ]
  },
  {
   "cell_type": "code",
   "execution_count": 7,
   "id": "7bfa4c75",
   "metadata": {},
   "outputs": [
    {
     "name": "error_msg",
     "output_type": "stream",
     "text": [
      "Line 8: Invalid argument: 0Ah"
     ]
    }
   ],
   "source": [
    "; ------------------------------ Lesson 1 : Hello world ! -------------------------\n",
    "; Hello World Program - asmtutor.com\n",
    "; Compile with: nasm -f elf helloworld.asm\n",
    "; Link with (64 bit systems require elf_i386 option): ld -m elf_i386 helloworld.o -o helloworld\n",
    "; Run with: ./helloworld\n",
    "\n",
    "SECTION .data\n",
    "msg db 'Hello World!', 0Ah ; Assign msg variable with our message string\n",
    "\n",
    "SECTION .text\n",
    "global _start\n",
    "\n",
    "_start:\n",
    "    mov EAX, 4 ; Load OPCODE into EAX\n",
    "    mov EBX, 1 ; Load file descriptor (STDOUT) into EBX\n",
    "    mov ECX, msg ; Load ECX with the address of our str.\n",
    "    mov EDX, 13 ; Load EDX with the length to write.\n",
    "    int 80h"
   ]
  },
  {
   "cell_type": "markdown",
   "id": "fcd9b8d9",
   "metadata": {},
   "source": [
    "This apparently doesn't work, probably because of use of wrong syntax for this environment :\n",
    "Retrying with an other syntax and using the following OPCODES table (https://chromium.googlesource.com/chromiumos/docs/+/HEAD/constants/syscalls.md#x86_64-64_bit)."
   ]
  },
  {
   "cell_type": "code",
   "execution_count": 13,
   "id": "847b7f75",
   "metadata": {},
   "outputs": [
    {
     "name": "error_msg",
     "output_type": "stream",
     "text": [
      "Line 2: Invalid instruction: section"
     ]
    }
   ],
   "source": [
    "; --------------------- Lesson 1 : Attempt to convert above program to a compatible version --------------\n",
    "section .data\n",
    "    msg db 'Hello world !'\n",
    "    \n",
    "section .text\n",
    "    global _start\n",
    "    \n",
    "_start:\n",
    "    mov rax, 1; OPCODE is actually 1, reg to use rax\n",
    "    mov rdi, 1; reg for fd is actually rdi\n",
    "    mov rsi, msg; reg for char* is actually rsi\n",
    "    mov rdx, 13; reg for size is actually rdx\n",
    "    syscall ; This is how we actually get a software interrupt."
   ]
  },
  {
   "cell_type": "markdown",
   "id": "c8ee196b",
   "metadata": {},
   "source": [
    "Still not good. Trying with writefile (and changing kernel to Python :"
   ]
  },
  {
   "cell_type": "code",
   "execution_count": 20,
   "id": "0faf99dc",
   "metadata": {},
   "outputs": [
    {
     "name": "stdout",
     "output_type": "stream",
     "text": [
      "Overwriting Lesson_1/helloworld.asm\n"
     ]
    }
   ],
   "source": [
    "%%writefile Lesson_1/helloworld.asm\n",
    "; --------------------- Lesson 1 : Attempt to convert above program to a compatible version --------------\n",
    "section .data\n",
    "    msg db 'Hello world !'\n",
    "    \n",
    "section .text\n",
    "    global _start\n",
    "    \n",
    "_start:\n",
    "    mov rax, 1; OPCODE is actually 1, reg to use rax\n",
    "    mov rdi, 1; reg for fd is actually rdi\n",
    "    mov rsi, msg; reg for char* is actually rsi\n",
    "    mov rdx, 13; reg for size is actually rdx\n",
    "    syscall ; This is how we actually get a software interrupt."
   ]
  },
  {
   "cell_type": "code",
   "execution_count": 43,
   "id": "1dffeffc",
   "metadata": {},
   "outputs": [
    {
     "name": "stderr",
     "output_type": "stream",
     "text": [
      "bash: line 3: 1079278 Segmentation fault      (core dumped) ./Lesson_1/helloworld\n"
     ]
    },
    {
     "name": "stdout",
     "output_type": "stream",
     "text": [
      "Hello world !"
     ]
    }
   ],
   "source": [
    "%%script bash --no-raise-error\n",
    "nasm -f elf64 Lesson_1/helloworld.asm -o Lesson_1/helloworld.o\n",
    "ld -m elf_x86_64 Lesson_1/helloworld.o -o Lesson_1/helloworld\n",
    "./Lesson_1/helloworld"
   ]
  },
  {
   "cell_type": "markdown",
   "id": "85ec05cd",
   "metadata": {},
   "source": [
    "### Lesson 2 : Proper program exit\n",
    "#### Some more background :\n",
    "Syscall for exiting : `sys_exit` (OPCODE for 64 bits : 60).\n",
    "From the entrypoint (`_start` here), instructions are sequencially executed after loaded into memory."
   ]
  },
  {
   "cell_type": "code",
   "execution_count": 44,
   "id": "b67f466a",
   "metadata": {},
   "outputs": [
    {
     "name": "stdout",
     "output_type": "stream",
     "text": [
      "Overwriting Lesson_2/helloworld.asm\n"
     ]
    }
   ],
   "source": [
    "%%writefile Lesson_2/helloworld.asm\n",
    "; --------------------- Lesson 2 : Attempt to convert above program to a compatible version --------------\n",
    "section .data\n",
    "    msg db 'Hello world !'\n",
    "    \n",
    "section .text\n",
    "    global _start\n",
    "    \n",
    "_start:\n",
    "    mov rax, 1; OPCODE is actually 1, reg to use rax\n",
    "    mov rdi, 1; reg for fd is actually rdi\n",
    "    mov rsi, msg; reg for char* is actually rsi\n",
    "    mov rdx, 13; reg for size is actually rdx\n",
    "    syscall ; This is how we actually get a software interrupt.\n",
    "    \n",
    "    mov rax, 60;\n",
    "    mov rdi, 0;\n",
    "    syscall"
   ]
  },
  {
   "cell_type": "code",
   "execution_count": null,
   "id": "65c27742",
   "metadata": {},
   "outputs": [],
   "source": [
    "%%script bash --no-raise-error\n",
    "nasm -f elf64 Lesson_2/helloworld.asm -o Lesson_2/helloworld.o\n",
    "ld -m elf_x86_64 Lesson_2/helloworld.o -o Lesson_2/helloworld\n",
    "./Lesson_2/helloworld"
   ]
  },
  {
   "cell_type": "markdown",
   "id": "5cad941e",
   "metadata": {},
   "source": [
    "### Lesson 3 : Calculate string length\n"
   ]
  },
  {
   "cell_type": "code",
   "execution_count": null,
   "id": "d5c22f0a",
   "metadata": {},
   "outputs": [],
   "source": [
    "%%writefile Lesson_3/helloworld_len.asm\n",
    "; --------------------- Lesson 3 : small modification of previous lesson --------------\n",
    "section .data\n",
    "    msg db 'Hello world, brave new world !'\n",
    "    \n",
    "section .text\n",
    "    global _start\n",
    "    \n",
    "_start:\n",
    "    mov rax, 1; OPCODE is actually 1, reg to use rax\n",
    "    mov rdi, 1; reg for fd is actually rdi\n",
    "    mov rsi, msg; reg for char* is actually rsi\n",
    "    mov rdx, 13; reg for size is actually rdx\n",
    "    syscall ; This is how we actually get a software interrupt.\n",
    "    \n",
    "    mov rax, 60;\n",
    "    mov rdi, 0;\n",
    "    syscall"
   ]
  },
  {
   "cell_type": "code",
   "execution_count": 1,
   "id": "08d2d2e0",
   "metadata": {},
   "outputs": [
    {
     "name": "stdout",
     "output_type": "stream",
     "text": [
      "Overwriting Lesson_3/helloworld_len.asm\n"
     ]
    }
   ],
   "source": [
    "%%writefile Lesson_3/helloworld_len.asm\n",
    "; ---------------------- Lesson 3 : calculate string length -------------------------\n",
    "\n",
    "section .data\n",
    "    msg db \"Hello, brave new world !\", 0Ah ; With nul character\n",
    "\n",
    "section .text\n",
    "    global _start\n",
    "\n",
    "_start:\n",
    "    mov rax, msg\n",
    "    \n",
    "ft_strlen:\n",
    "    mov rdi, rax\n",
    "    \n",
    "ft_strlen_loop:\n",
    "    cmp rax, 0\n",
    "    jz ft_strlen_end\n",
    "    inc rdi\n",
    "    jmp ft_strlen_loop\n",
    "    \n",
    "ft_strlen_end:\n",
    "    sub rdi, rax\n",
    "    \n",
    "    mov rdx, rax\n",
    "    mov rax, 1\n",
    "    mov rsi, msg\n",
    "    syscall\n",
    "    \n",
    "    mov rax, 60;\n",
    "    mov rdi, 0;\n",
    "    syscall"
   ]
  },
  {
   "cell_type": "code",
   "execution_count": null,
   "id": "11b0ecac",
   "metadata": {},
   "outputs": [],
   "source": [
    "%%script bash --no-raise-error\n",
    "nasm -f elf64 Lesson_3/helloworld_len.asm -o Lesson_3/helloworld_len.o\n",
    "ld -m elf_x86_64 Lesson_3/helloworld_len.o -o Lesson_3/helloworld_len\n",
    "./Lesson_3/helloworld_len"
   ]
  },
  {
   "cell_type": "code",
   "execution_count": null,
   "id": "6d23891d",
   "metadata": {},
   "outputs": [],
   "source": [
    "%%script bash\n",
    "echo foo"
   ]
  }
 ],
 "metadata": {
  "kernelspec": {
   "display_name": "Python 3 (ipykernel)",
   "language": "python",
   "name": "python3"
  },
  "language_info": {
   "codemirror_mode": {
    "name": "ipython",
    "version": 3
   },
   "file_extension": ".py",
   "mimetype": "text/x-python",
   "name": "python",
   "nbconvert_exporter": "python",
   "pygments_lexer": "ipython3",
   "version": "3.11.6"
  }
 },
 "nbformat": 4,
 "nbformat_minor": 5
}
