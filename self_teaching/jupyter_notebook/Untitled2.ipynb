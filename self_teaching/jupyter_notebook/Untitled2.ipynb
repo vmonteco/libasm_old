{
 "cells": [
  {
   "cell_type": "markdown",
   "id": "825b8787",
   "metadata": {},
   "source": [
    "# `libasm` - Apprentissage de l'assembleur :\n",
    "## Working with ASM on Notebook :"
   ]
  },
  {
   "cell_type": "code",
   "execution_count": null,
   "id": "08dd6687",
   "metadata": {},
   "outputs": [],
   "source": [
    "mov edx, 2\n",
    "mov ebx, 16"
   ]
  },
  {
   "cell_type": "markdown",
   "id": "ede950ad",
   "metadata": {},
   "source": [
    "## Asmtutor :"
   ]
  }
 ],
 "metadata": {
  "kernelspec": {
   "display_name": "Intel",
   "language": "",
   "name": "intel"
  },
  "language_info": {
   "file_extension": "x86",
   "mimetype": "intel",
   "name": "intel"
  }
 },
 "nbformat": 4,
 "nbformat_minor": 5
}
